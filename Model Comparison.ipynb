{
 "cells": [
  {
   "cell_type": "markdown",
   "metadata": {},
   "source": [
    "### Imports"
   ]
  },
  {
   "cell_type": "code",
   "execution_count": 1,
   "metadata": {},
   "outputs": [],
   "source": [
    "import pandas as pd\n",
    "import numpy as np\n",
    "from math import sqrt\n",
    "from sklearn.model_selection import train_test_split\n",
    "from sklearn.pipeline import Pipeline\n",
    "from sklearn.preprocessing import StandardScaler, OneHotEncoder\n",
    "from sklearn.compose import ColumnTransformer\n",
    "from sklearn.linear_model import LinearRegression, SGDRegressor\n",
    "from sklearn.metrics import mean_squared_error, mean_absolute_error\n",
    "from sklearn.neighbors import KNeighborsRegressor\n",
    "from sklearn.ensemble import RandomForestRegressor, GradientBoostingRegressor\n",
    "from sklearn.svm import SVR"
   ]
  },
  {
   "cell_type": "markdown",
   "metadata": {},
   "source": [
    "### Load Data"
   ]
  },
  {
   "cell_type": "code",
   "execution_count": 119,
   "metadata": {},
   "outputs": [
    {
     "data": {
      "text/html": [
       "<div>\n",
       "<style scoped>\n",
       "    .dataframe tbody tr th:only-of-type {\n",
       "        vertical-align: middle;\n",
       "    }\n",
       "\n",
       "    .dataframe tbody tr th {\n",
       "        vertical-align: top;\n",
       "    }\n",
       "\n",
       "    .dataframe thead th {\n",
       "        text-align: right;\n",
       "    }\n",
       "</style>\n",
       "<table border=\"1\" class=\"dataframe\">\n",
       "  <thead>\n",
       "    <tr style=\"text-align: right;\">\n",
       "      <th></th>\n",
       "      <th>laptop_ID</th>\n",
       "      <th>Company</th>\n",
       "      <th>Product</th>\n",
       "      <th>TypeName</th>\n",
       "      <th>Inches</th>\n",
       "      <th>ScreenResolution</th>\n",
       "      <th>Cpu</th>\n",
       "      <th>Ram</th>\n",
       "      <th>Memory</th>\n",
       "      <th>Gpu</th>\n",
       "      <th>OpSys</th>\n",
       "      <th>Price_euros</th>\n",
       "      <th>Weight_fl</th>\n",
       "    </tr>\n",
       "  </thead>\n",
       "  <tbody>\n",
       "    <tr>\n",
       "      <th>0</th>\n",
       "      <td>1</td>\n",
       "      <td>Apple</td>\n",
       "      <td>MacBook Pro</td>\n",
       "      <td>Ultrabook</td>\n",
       "      <td>13.3</td>\n",
       "      <td>IPS Panel Retina Display 2560x1600</td>\n",
       "      <td>Intel Core i5 2.3GHz</td>\n",
       "      <td>8GB</td>\n",
       "      <td>128GB SSD</td>\n",
       "      <td>Intel Iris Plus Graphics 640</td>\n",
       "      <td>macOS</td>\n",
       "      <td>1339.69</td>\n",
       "      <td>1.37</td>\n",
       "    </tr>\n",
       "    <tr>\n",
       "      <th>1</th>\n",
       "      <td>2</td>\n",
       "      <td>Apple</td>\n",
       "      <td>Macbook Air</td>\n",
       "      <td>Ultrabook</td>\n",
       "      <td>13.3</td>\n",
       "      <td>1440x900</td>\n",
       "      <td>Intel Core i5 1.8GHz</td>\n",
       "      <td>8GB</td>\n",
       "      <td>128GB Flash Storage</td>\n",
       "      <td>Intel HD Graphics 6000</td>\n",
       "      <td>macOS</td>\n",
       "      <td>898.94</td>\n",
       "      <td>1.34</td>\n",
       "    </tr>\n",
       "    <tr>\n",
       "      <th>2</th>\n",
       "      <td>3</td>\n",
       "      <td>HP</td>\n",
       "      <td>250 G6</td>\n",
       "      <td>Notebook</td>\n",
       "      <td>15.6</td>\n",
       "      <td>Full HD 1920x1080</td>\n",
       "      <td>Intel Core i5 7200U 2.5GHz</td>\n",
       "      <td>8GB</td>\n",
       "      <td>256GB SSD</td>\n",
       "      <td>Intel HD Graphics 620</td>\n",
       "      <td>No OS</td>\n",
       "      <td>575.00</td>\n",
       "      <td>1.86</td>\n",
       "    </tr>\n",
       "    <tr>\n",
       "      <th>3</th>\n",
       "      <td>4</td>\n",
       "      <td>Apple</td>\n",
       "      <td>MacBook Pro</td>\n",
       "      <td>Ultrabook</td>\n",
       "      <td>15.4</td>\n",
       "      <td>IPS Panel Retina Display 2880x1800</td>\n",
       "      <td>Intel Core i7 2.7GHz</td>\n",
       "      <td>16GB</td>\n",
       "      <td>512GB SSD</td>\n",
       "      <td>AMD Radeon Pro 455</td>\n",
       "      <td>macOS</td>\n",
       "      <td>2537.45</td>\n",
       "      <td>1.83</td>\n",
       "    </tr>\n",
       "    <tr>\n",
       "      <th>4</th>\n",
       "      <td>5</td>\n",
       "      <td>Apple</td>\n",
       "      <td>MacBook Pro</td>\n",
       "      <td>Ultrabook</td>\n",
       "      <td>13.3</td>\n",
       "      <td>IPS Panel Retina Display 2560x1600</td>\n",
       "      <td>Intel Core i5 3.1GHz</td>\n",
       "      <td>8GB</td>\n",
       "      <td>256GB SSD</td>\n",
       "      <td>Intel Iris Plus Graphics 650</td>\n",
       "      <td>macOS</td>\n",
       "      <td>1803.60</td>\n",
       "      <td>1.37</td>\n",
       "    </tr>\n",
       "  </tbody>\n",
       "</table>\n",
       "</div>"
      ],
      "text/plain": [
       "   laptop_ID Company      Product   TypeName  Inches  \\\n",
       "0          1   Apple  MacBook Pro  Ultrabook    13.3   \n",
       "1          2   Apple  Macbook Air  Ultrabook    13.3   \n",
       "2          3      HP       250 G6   Notebook    15.6   \n",
       "3          4   Apple  MacBook Pro  Ultrabook    15.4   \n",
       "4          5   Apple  MacBook Pro  Ultrabook    13.3   \n",
       "\n",
       "                     ScreenResolution                         Cpu   Ram  \\\n",
       "0  IPS Panel Retina Display 2560x1600        Intel Core i5 2.3GHz   8GB   \n",
       "1                            1440x900        Intel Core i5 1.8GHz   8GB   \n",
       "2                   Full HD 1920x1080  Intel Core i5 7200U 2.5GHz   8GB   \n",
       "3  IPS Panel Retina Display 2880x1800        Intel Core i7 2.7GHz  16GB   \n",
       "4  IPS Panel Retina Display 2560x1600        Intel Core i5 3.1GHz   8GB   \n",
       "\n",
       "                Memory                           Gpu  OpSys  Price_euros  \\\n",
       "0            128GB SSD  Intel Iris Plus Graphics 640  macOS      1339.69   \n",
       "1  128GB Flash Storage        Intel HD Graphics 6000  macOS       898.94   \n",
       "2            256GB SSD         Intel HD Graphics 620  No OS       575.00   \n",
       "3            512GB SSD            AMD Radeon Pro 455  macOS      2537.45   \n",
       "4            256GB SSD  Intel Iris Plus Graphics 650  macOS      1803.60   \n",
       "\n",
       "   Weight_fl  \n",
       "0       1.37  \n",
       "1       1.34  \n",
       "2       1.86  \n",
       "3       1.83  \n",
       "4       1.37  "
      ]
     },
     "execution_count": 119,
     "metadata": {},
     "output_type": "execute_result"
    }
   ],
   "source": [
    "df = pd.read_csv('data/laptop_price_wf.csv', encoding = 'latin-1', index_col = [0])\n",
    "df.head()"
   ]
  },
  {
   "cell_type": "markdown",
   "metadata": {},
   "source": [
    "### Function for Preprocessing"
   ]
  },
  {
   "cell_type": "code",
   "execution_count": 120,
   "metadata": {},
   "outputs": [],
   "source": [
    "# function that preprocesses dataframe\n",
    "def process_dataframe(input_df):\n",
    "    # screen resolution\n",
    "    input_df['Touchscreen'] = np.where(input_df['ScreenResolution'].str.contains('Touchscreen', case = False, na = False), 1, 0)\n",
    "    input_df['ScreenResolution'] = input_df.apply(lambda x: x['ScreenResolution'][-8:], axis = 1)\n",
    "    input_df['ScreenResolution'] = input_df['ScreenResolution'].str.replace(' ', '')\n",
    "    # cpu\n",
    "    input_df['Cpu'] = input_df['Cpu'].str.replace('Core', '')\n",
    "    input_df['Cpu'] = input_df['Cpu'].str.split().str[:2].str.join(sep = ' ')\n",
    "    input_df['Cpu_brand'] = input_df['Cpu'].str.split().str[0]\n",
    "    input_df['Cpu'] = input_df['Cpu'].str.split().str[1:].str.join(sep = ' ')\n",
    "    # memory\n",
    "    input_df['ssd'] = np.where(input_df['Memory'].str.contains('ssd|hybrid', case = False, na = False), 1, 0)\n",
    "    input_df['Memory'] = input_df['Memory'].str.replace('1.0', '1', regex = False)\n",
    "    input_df['Memory'] = input_df['Memory'].str.replace('1TB', '1024')\n",
    "    input_df['Memory'] = input_df['Memory'].str.replace('2TB', '2048')\n",
    "    input_df['Memory'] = input_df['Memory'].str.replace('GB', '')\n",
    "    input_df['Memory'] = input_df['Memory'].str.split().apply(lambda x: [a for a in x if a.isdigit()])\n",
    "    input_df['Memory'] = input_df['Memory'].apply(lambda x: [int(a) for a in x])\n",
    "    input_df['Memory'] = input_df['Memory'].apply(lambda x: sum(x))\n",
    "    # gpu\n",
    "    input_df['Gpu'] = input_df['Gpu'].str.split().str[:2].str.join(sep = ' ')\n",
    "    input_df['Gpu_brand'] = input_df['Gpu'].str.split().str[0]\n",
    "    input_df['Gpu'] = input_df['Gpu'].str.split().str[1:].str.join(sep = ' ')\n",
    "    # drop columns\n",
    "    input_df = input_df.drop(['Product', 'laptop_ID'], axis = 1)\n",
    "    # drop rows\n",
    "    counts_col2 = input_df.groupby('Cpu')['Cpu'].transform(len)\n",
    "    counts_col3 = input_df.groupby('Gpu')['Gpu'].transform(len)\n",
    "    mask = (counts_col2 > 3) & (counts_col3 > 3)\n",
    "    return input_df[mask]"
   ]
  },
  {
   "cell_type": "markdown",
   "metadata": {},
   "source": [
    "### Function for Pipeline"
   ]
  },
  {
   "cell_type": "code",
   "execution_count": 121,
   "metadata": {},
   "outputs": [],
   "source": [
    "# Data Preprocessing\n",
    "categorical_preprocessing = Pipeline([('ohe', OneHotEncoder())])\n",
    "numerical_preprocessing = Pipeline([('stdscaler', StandardScaler())])\n",
    "\n",
    "# Applying Transformer \n",
    "preprocess = ColumnTransformer([\n",
    "    ('categorical_preprocessing', categorical_preprocessing, ['Company', 'TypeName', 'ScreenResolution', 'Cpu', 'Ram', 'Gpu', 'OpSys', 'Cpu_brand', 'Gpu_brand']),\n",
    "    ('numerical_preprocessing', numerical_preprocessing, ['Inches', 'Memory', 'Weight_fl'])\n",
    "])\n",
    "\n",
    "# function that produces performance of pipeline with indicated model\n",
    "def main(input_df, input_model):\n",
    "    pipeline = Pipeline([\n",
    "        ('preprocess', preprocess),\n",
    "        ('model', input_model)\n",
    "    ])\n",
    "\n",
    "    X = df.drop('Price_euros', axis = 1)\n",
    "    y = df['Price_euros']\n",
    "    X_train, X_test, y_train, y_test = train_test_split(X, y, test_size = 0.25, random_state = 23)\n",
    "\n",
    "    pipeline.fit(X_train, y_train)\n",
    "\n",
    "    y_pred = pipeline.predict(X_test)\n",
    "\n",
    "    print('MSE is: ' + str(mean_squared_error(y_test, y_pred)))\n",
    "    print('RMSE is: ' + str(sqrt(mean_squared_error(y_test, y_pred))))\n",
    "    print('MAE is: ' + str(mean_absolute_error(y_test, y_pred)))"
   ]
  },
  {
   "cell_type": "code",
   "execution_count": 122,
   "metadata": {},
   "outputs": [],
   "source": [
    "df = process_dataframe(df)"
   ]
  },
  {
   "cell_type": "code",
   "execution_count": 123,
   "metadata": {},
   "outputs": [
    {
     "name": "stdout",
     "output_type": "stream",
     "text": [
      "MSE is: 106138.2510155169\n",
      "RMSE is: 325.78866004745606\n",
      "MAE is: 233.05009895723583\n"
     ]
    }
   ],
   "source": [
    "# linear regression\n",
    "model = LinearRegression()\n",
    "main(df, model)"
   ]
  },
  {
   "cell_type": "code",
   "execution_count": 124,
   "metadata": {},
   "outputs": [
    {
     "name": "stdout",
     "output_type": "stream",
     "text": [
      "MSE is: 109990.16509906074\n",
      "RMSE is: 331.6476520330888\n",
      "MAE is: 234.96288938195812\n"
     ]
    }
   ],
   "source": [
    "# stochastic gradient descent regression\n",
    "model = SGDRegressor()\n",
    "main(df, model)"
   ]
  },
  {
   "cell_type": "code",
   "execution_count": 125,
   "metadata": {},
   "outputs": [
    {
     "name": "stdout",
     "output_type": "stream",
     "text": [
      "MSE is: 103449.16395211112\n",
      "RMSE is: 321.6351410404515\n",
      "MAE is: 212.02324074074073\n"
     ]
    }
   ],
   "source": [
    "# K-nearest neighbors regression\n",
    "model = KNeighborsRegressor()\n",
    "main(df, model)"
   ]
  },
  {
   "cell_type": "code",
   "execution_count": 126,
   "metadata": {},
   "outputs": [
    {
     "name": "stdout",
     "output_type": "stream",
     "text": [
      "MSE is: 93795.70445364439\n",
      "RMSE is: 306.26084381396913\n",
      "MAE is: 204.9315895493627\n"
     ]
    }
   ],
   "source": [
    "# random forest regression\n",
    "model = RandomForestRegressor()\n",
    "main(df, model)"
   ]
  },
  {
   "cell_type": "code",
   "execution_count": 127,
   "metadata": {},
   "outputs": [
    {
     "name": "stdout",
     "output_type": "stream",
     "text": [
      "MSE is: 100511.19437052678\n",
      "RMSE is: 317.0350049608509\n",
      "MAE is: 218.506737628709\n"
     ]
    }
   ],
   "source": [
    "# xgboost regression\n",
    "model = GradientBoostingRegressor()\n",
    "main(df, model)"
   ]
  },
  {
   "cell_type": "code",
   "execution_count": 128,
   "metadata": {},
   "outputs": [
    {
     "name": "stdout",
     "output_type": "stream",
     "text": [
      "MSE is: 507171.6591860877\n",
      "RMSE is: 712.1598550789616\n",
      "MAE is: 510.0649214806689\n"
     ]
    }
   ],
   "source": [
    "# support vector machine regression\n",
    "model = SVR()\n",
    "main(df, model)"
   ]
  }
 ],
 "metadata": {
  "kernelspec": {
   "display_name": "Python 3.9.12 ('base')",
   "language": "python",
   "name": "python3"
  },
  "language_info": {
   "codemirror_mode": {
    "name": "ipython",
    "version": 3
   },
   "file_extension": ".py",
   "mimetype": "text/x-python",
   "name": "python",
   "nbconvert_exporter": "python",
   "pygments_lexer": "ipython3",
   "version": "3.9.12"
  },
  "orig_nbformat": 4,
  "vscode": {
   "interpreter": {
    "hash": "594cbcb53b7eb24b01ad1ace3292a9583de43e996a12a214afbcf4f5a5715dd8"
   }
  }
 },
 "nbformat": 4,
 "nbformat_minor": 2
}
